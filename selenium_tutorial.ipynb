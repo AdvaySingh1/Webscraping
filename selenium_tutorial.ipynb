{
 "cells": [
  {
   "cell_type": "code",
   "execution_count": 32,
   "metadata": {},
   "outputs": [],
   "source": [
    "import time\n",
    "from selenium import webdriver\n",
    "from selenium.webdriver.chrome.service import Service\n",
    "from selenium.webdriver.common.by import By\n",
    "from selenium.webdriver.support.wait import WebDriverWait\n",
    "from selenium.webdriver.chrome.options import Options"
   ]
  },
  {
   "cell_type": "code",
   "execution_count": 33,
   "metadata": {},
   "outputs": [],
   "source": [
    "service = Service()\n",
    "\n",
    "# if you want to get fancy with the options\n",
    "# here the the ChromeOptions documentation: https://chromedriver.chromium.org/capabilities#h.p_ID_102\n",
    "# here is the list of Chrome arguments: https://peter.sh/experiments/chromium-command-line-switches/\n",
    "# there are a lot...\n",
    "chrome_options = webdriver.ChromeOptions()\n",
    "chrome_options.add_experimental_option(\"detach\", True) # this keeps the window open post execution/errors/ changing frames (explained later)\n",
    "\n",
    "prefs = {\"download.default_directory\": '/Users/advaysingh/documents/F23-Webscraping-main',\n",
    "         \"directory_upgrade\": True}\n",
    "chrome_options.add_experimental_option(\"prefs\", prefs)"
   ]
  },
  {
   "cell_type": "code",
   "execution_count": 34,
   "metadata": {},
   "outputs": [
    {
     "data": {
      "text/plain": [
       "<selenium.webdriver.support.wait.WebDriverWait (session=\"038021c934dc350449d9f2b7fa7d64ef\")>"
      ]
     },
     "execution_count": 34,
     "metadata": {},
     "output_type": "execute_result"
    }
   ],
   "source": [
    "# driver = webdriver.Chrome('/usr/local/bin/chromedriver')\n",
    "# driver = webdriver.Chrome('/usr/local/bin/chromedriver', options=chrome_options)\n",
    "driver = webdriver.Chrome(service=service, options=chrome_options)\n",
    "\n",
    "driver.get('https://quotes.toscrape.com')\n",
    "WebDriverWait(driver, timeout=30)\n",
    "\n",
    "# if this didn't work, may need to follow tutorial:\n",
    "# for Windows: https://cloudbytes.dev/snippets/run-selenium-and-chrome-on-wsl2#step-2-install-latest-chrome-for-linux\n",
    "# for Mac: https://github.com/MichiganDataScienceTeam/W23-Webscraping/blob/main/meetings/meeting_selenium.MD"
   ]
  },
  {
   "cell_type": "markdown",
   "metadata": {},
   "source": [
    "### Basic Tutorial on Quotes.toscrape website  \n",
    "\n",
    "https://www.selenium.dev/documentation/webdriver/getting_started/first_script/"
   ]
  },
  {
   "cell_type": "code",
   "execution_count": 35,
   "metadata": {},
   "outputs": [
    {
     "name": "stdout",
     "output_type": "stream",
     "text": [
      "title of site: Quotes to Scrape\n",
      "initial cookies: []\n",
      "cookies: [{'domain': 'quotes.toscrape.com', 'httpOnly': False, 'name': 'Coolcookie', 'path': '/', 'sameSite': 'Lax', 'secure': True, 'value': 'yum'}]\n"
     ]
    }
   ],
   "source": [
    "print(f'title of site: {driver.title}')\n",
    "\n",
    "# you can also access and set cookies\n",
    "print(f'initial cookies: {driver.get_cookies()}')\n",
    "cookie = {'name' : 'Coolcookie', 'value' : 'yum'}\n",
    "driver.add_cookie(cookie)\n",
    "print(f'cookies: {driver.get_cookies()}')"
   ]
  },
  {
   "cell_type": "markdown",
   "metadata": {},
   "source": [
    "### Task 1: Find and Click the \"Login\" Link  \n",
    "\n",
    "It should navigate you to the Login page"
   ]
  },
  {
   "cell_type": "code",
   "execution_count": 36,
   "metadata": {},
   "outputs": [],
   "source": [
    "# Task 1\n",
    "submit_button = driver.find_element(by=By.LINK_TEXT, value=\"Login\")\n",
    "submit_button.click()"
   ]
  },
  {
   "cell_type": "markdown",
   "metadata": {},
   "source": [
    "### Task 2: Log in to the site  \n",
    "\n",
    "The website does not require an actual account, and user/pass combo will successfully log you in."
   ]
  },
  {
   "cell_type": "code",
   "execution_count": 37,
   "metadata": {},
   "outputs": [],
   "source": [
    "# Task 2\n",
    "username_text_box = driver.find_element(by=By.ID, value=\"username\")\n",
    "password_text_box = driver.find_element(by=By.ID, value=\"password\")\n",
    "username_text_box.send_keys(\"Username\")\n",
    "password_text_box.send_keys(\"Password\")\n",
    "login_button = driver.find_element(by=By.CLASS_NAME, value=\"btn-primary\")\n",
    "login_button.click()"
   ]
  },
  {
   "cell_type": "code",
   "execution_count": 38,
   "metadata": {},
   "outputs": [],
   "source": [
    "driver.quit()"
   ]
  }
 ],
 "metadata": {
  "kernelspec": {
   "display_name": "Python 3 (ipykernel)",
   "language": "python",
   "name": "python3"
  },
  "language_info": {
   "codemirror_mode": {
    "name": "ipython",
    "version": 3
   },
   "file_extension": ".py",
   "mimetype": "text/x-python",
   "name": "python",
   "nbconvert_exporter": "python",
   "pygments_lexer": "ipython3",
   "version": "3.9.6"
  }
 },
 "nbformat": 4,
 "nbformat_minor": 4
}
