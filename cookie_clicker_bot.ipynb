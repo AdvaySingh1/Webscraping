{
 "cells": [
  {
   "cell_type": "code",
   "execution_count": 27,
   "metadata": {},
   "outputs": [],
   "source": [
    "from selenium import webdriver\n",
    "from selenium.webdriver.common.action_chains import ActionChains\n",
    "from selenium.webdriver.common.by import By\n",
    "from selenium.webdriver.support.ui import WebDriverWait\n",
    "from selenium.webdriver.support import expected_conditions as EC\n",
    "\n",
    "driver = webdriver.Chrome()\n",
    "driver.maximize_window()"
   ]
  },
  {
   "cell_type": "markdown",
   "metadata": {},
   "source": [
    "##### **Step 1)**\n",
    "Before we get to click on the big coookie... \n",
    "\n",
    "#### **IMPORTANT** \n",
    "there is a slight issue...\n",
    "If you load up the site in your browser, you may notice that, there is a brief loading screen and then an unavoidable language selection popup. This is problematic for us because after you select your language, the site reloads once or twice, breaking the code. \n",
    "\n",
    "If anyone knows how to cross this issue and make the program run without human intervention, let us know. Otherwise, you may start the webdriver and just manually run each cell (See Step 3).\n",
    "\n",
    "TL;DR: Because of skill issue, start webdriver, manually click on all popups, and then manually run every cell starting at Step 3."
   ]
  },
  {
   "cell_type": "markdown",
   "metadata": {},
   "source": [
    "##### **Step 2)**\n",
    "**A Refresher From Last Time** \\\n",
    "Q: What is implicitly_wait? \\\n",
    "A: Sets a global setting to wait up to N seconds whenever anything you are are looking for does not yet exist\n",
    "\n",
    "Q: What is WebDriverWait? \\\n",
    "A: Makes the webdriver wait until condition.\n",
    "\n",
    "**New Stuff** \\\n",
    "Q: What is EC and presence_of_element_located? \\\n",
    "A: Searches for element with:\n",
    "- Locator (e.g. CLASS_NAME, ID, NAME, XPATH, etc.)\n",
    "- Value (what value the locator has)"
   ]
  },
  {
   "cell_type": "markdown",
   "metadata": {},
   "source": [
    "##### **Step 3)**\n",
    "**When you finish loading in / selecting language, rerun every cell from HERE to the bottom (except for driver.quit())**"
   ]
  },
  {
   "cell_type": "code",
   "execution_count": 28,
   "metadata": {},
   "outputs": [],
   "source": [
    "driver.implicitly_wait(10)\n",
    "driver.get(\"https://orteil.dashnet.org/cookieclicker/\")\n",
    "\n",
    "# Backup site T_T\n",
    "#driver.get(\"https://sites.google.com/site/classroom6x/cookie-clicker\")\n",
    "\n",
    "# We use this to create multiple actions and execute them at once (down below)\n",
    "actions = ActionChains(driver)"
   ]
  },
  {
   "cell_type": "code",
   "execution_count": 29,
   "metadata": {},
   "outputs": [],
   "source": [
    "# TODO: Replace the text with whatever the Locator/Values are (also remove quotations):\n",
    "\n",
    "# HINT: The Big Spinning Cooookie\n",
    "cookie = WebDriverWait(driver, 25).until(\n",
    "    EC.presence_of_element_located((By.ID, \"bigCookie\"))\n",
    ")\n",
    "\n",
    "# HINT: How do we track the number of cookies we have\n",
    "cookie_count = WebDriverWait(driver, 25).until(\n",
    "    EC.presence_of_element_located((By.ID, \"cookies\"))\n",
    ")\n"
   ]
  },
  {
   "cell_type": "markdown",
   "metadata": {},
   "source": [
    "**Identifying and Buying Upgrades:** \\\n",
    "What are the parameters of range() ? \n",
    "- range(start, stop, step)\n",
    "\n",
    "We set the parameters of range() to 1, -1, -1 instead of  0, 1, 1 \n",
    "because we want to buy the most expensive (A.K.A. best) upgrades first. \n",
    "\n",
    "Otherwise, we will always buy the worse upgrades until they gradually overprice the next tier (not optimal).\n"
   ]
  },
  {
   "cell_type": "code",
   "execution_count": 30,
   "metadata": {},
   "outputs": [],
   "source": [
    "# TODO: Replace the text with the price of the production method (also remove quotations).\n",
    "# HINT: Click on the \"...\" to reveal more hidden lines until you find something related to price.\n",
    "\n",
    "items = [driver.find_element(By.ID, \"productPrice\" + str(i)) for i in range(1, -1, -1)]"
   ]
  },
  {
   "cell_type": "code",
   "execution_count": 34,
   "metadata": {},
   "outputs": [
    {
     "ename": "ValueError",
     "evalue": "invalid literal for int() with base 10: '7,143'",
     "output_type": "error",
     "traceback": [
      "\u001b[0;31m---------------------------------------------------------------------------\u001b[0m",
      "\u001b[0;31mValueError\u001b[0m                                Traceback (most recent call last)",
      "Cell \u001b[0;32mIn[34], line 17\u001b[0m\n\u001b[1;32m     14\u001b[0m \u001b[38;5;66;03m# upgrades\u001b[39;00m\n\u001b[1;32m     15\u001b[0m \u001b[38;5;66;03m# enough cookies to purchase\u001b[39;00m\n\u001b[1;32m     16\u001b[0m \u001b[38;5;28;01mfor\u001b[39;00m item \u001b[38;5;129;01min\u001b[39;00m items:\n\u001b[0;32m---> 17\u001b[0m     value \u001b[38;5;241m=\u001b[39m \u001b[38;5;28;43mint\u001b[39;49m\u001b[43m(\u001b[49m\u001b[43mitem\u001b[49m\u001b[38;5;241;43m.\u001b[39;49m\u001b[43mtext\u001b[49m\u001b[43m)\u001b[49m\n\u001b[1;32m     18\u001b[0m     \u001b[38;5;28;01mif\u001b[39;00m value \u001b[38;5;241m<\u001b[39m\u001b[38;5;241m=\u001b[39m \u001b[38;5;28mint\u001b[39m(count):\n\u001b[1;32m     19\u001b[0m \n\u001b[1;32m     20\u001b[0m         \u001b[38;5;66;03m# TODO: Create an ActionChains called upgrade_actions (also remove quotations)\u001b[39;00m\n\u001b[1;32m     21\u001b[0m         upgrade_actions \u001b[38;5;241m=\u001b[39m ActionChains(driver)\n",
      "\u001b[0;31mValueError\u001b[0m: invalid literal for int() with base 10: '7,143'"
     ]
    }
   ],
   "source": [
    "# Clicks the cookie 5000x\n",
    "for i in range(5000):\n",
    "\n",
    "    # Executes actions\n",
    "    # Click the Cookie! (see beginning for declaration of \"action\")\n",
    "    actions.click(cookie)\n",
    "    actions.perform()\n",
    "\n",
    "    # Finds number of cookies, and\n",
    "    # splits by [space] and accesses the first value after.\n",
    "    # Ex: 24 cookies\n",
    "    count = cookie_count.text.split(\" \")[0]\n",
    "    \n",
    "    # upgrades\n",
    "    # enough cookies to purchase\n",
    "    for item in items:\n",
    "        value = int(item.text)\n",
    "        if value <= int(count):\n",
    "\n",
    "            # TODO: Create an ActionChains called upgrade_actions (also remove quotations)\n",
    "            upgrade_actions = ActionChains(driver)\n",
    "\n",
    "            # TODO: Define a set of actions using upgrade_actions.\n",
    "            upgrade_actions.click(item)\n",
    "            upgrade_actions.perform()\n",
    "            # These actions include a series of  \"going to/moving to the item\", \"clicking the item\", and \"a call to perform all of those actions\"\n",
    "            # There are multiple ways to do this using 3 lines or less.\n",
    "            # For information, check out the ActionChains documentation and look above."
   ]
  },
  {
   "cell_type": "code",
   "execution_count": 23,
   "metadata": {},
   "outputs": [],
   "source": [
    "# TERMINATE THE PROCESS\n",
    "# Don't run this with the rest of the code\n",
    "\n",
    "driver.quit()"
   ]
  }
 ],
 "metadata": {
  "kernelspec": {
   "display_name": "Python 3 (ipykernel)",
   "language": "python",
   "name": "python3"
  },
  "language_info": {
   "codemirror_mode": {
    "name": "ipython",
    "version": 3
   },
   "file_extension": ".py",
   "mimetype": "text/x-python",
   "name": "python",
   "nbconvert_exporter": "python",
   "pygments_lexer": "ipython3",
   "version": "3.9.6"
  }
 },
 "nbformat": 4,
 "nbformat_minor": 4
}
